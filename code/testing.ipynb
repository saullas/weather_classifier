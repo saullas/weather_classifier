{
 "cells": [
  {
   "cell_type": "code",
   "execution_count": 1,
   "metadata": {
    "collapsed": true,
    "pycharm": {
     "is_executing": false
    }
   },
   "outputs": [],
   "source": [
    "import tensorflow as tf\n",
    "from PIL import Image\n",
    "import numpy as np"
   ]
  },
  {
   "cell_type": "code",
   "execution_count": 2,
   "outputs": [],
   "source": [
    "model = tf.keras.models.load_model('../models/big_dataset')"
   ],
   "metadata": {
    "collapsed": false,
    "pycharm": {
     "name": "#%%\n",
     "is_executing": false
    }
   }
  },
  {
   "cell_type": "code",
   "execution_count": 6,
   "outputs": [],
   "source": [
    "categories = ['cloudy', 'foggy', 'rain', 'snow', 'sunny']\n",
    "\n",
    "image_w = 64\n",
    "image_h = 64\n",
    "\n",
    "def prepare(filepath):\n",
    "\timg = Image.open(filepath)\n",
    "\timg = img.convert(\"RGB\")\n",
    "\timg = img.resize((image_w, image_h))\n",
    "\tdata = np.asarray(img) / 255.0\n",
    "\treturn data.reshape(1, image_w, image_h, -1)"
   ],
   "metadata": {
    "collapsed": false,
    "pycharm": {
     "name": "#%%\n",
     "is_executing": false
    }
   }
  },
  {
   "cell_type": "code",
   "execution_count": 25,
   "outputs": [
    {
     "name": "stdout",
     "text": [
      "cloudy: 0.06\nfoggy: 0.00\nrain: 0.00\nsnow: 0.00\nsunny: 0.94\n"
     ],
     "output_type": "stream"
    }
   ],
   "source": [
    "prediction = model.predict([prepare('../data/random/construction.jpg')])[0]\n",
    "\n",
    "for value, category in zip(prediction, categories):\n",
    "\tprint(category + ': %.2f' % np.round(value, 2))"
   ],
   "metadata": {
    "collapsed": false,
    "pycharm": {
     "name": "#%%\n",
     "is_executing": false
    }
   }
  }
 ],
 "metadata": {
  "kernelspec": {
   "display_name": "Python 3",
   "language": "python",
   "name": "python3"
  },
  "language_info": {
   "codemirror_mode": {
    "name": "ipython",
    "version": 2
   },
   "file_extension": ".py",
   "mimetype": "text/x-python",
   "name": "python",
   "nbconvert_exporter": "python",
   "pygments_lexer": "ipython2",
   "version": "2.7.6"
  },
  "pycharm": {
   "stem_cell": {
    "cell_type": "raw",
    "source": [],
    "metadata": {
     "collapsed": false
    }
   }
  }
 },
 "nbformat": 4,
 "nbformat_minor": 0
}